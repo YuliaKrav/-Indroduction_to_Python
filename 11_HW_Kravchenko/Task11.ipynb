{
 "cells": [
  {
   "cell_type": "code",
   "execution_count": null,
   "metadata": {},
   "outputs": [],
   "source": [
    "# Дана функция f(x) = y = |5*x^3| +3*x^2 - 6|x| + 8\n",
    "\n",
    "# 1. Определить корни\n",
    "\n",
    "# 2. Найти интервалы, на которых функция возрастает\n",
    "\n",
    "# 3. Найти интервалы, на которых функция убывает\n",
    "\n",
    "# 4. Построить график\n",
    "\n",
    "# 5. Вычислить вершину\n",
    "\n",
    "# 6. Определить промежутки, на котором f > 0\n",
    "\n",
    "# 7. Определить промежутки, на котором f < 0\n"
   ]
  },
  {
   "cell_type": "code",
   "execution_count": 26,
   "metadata": {},
   "outputs": [],
   "source": [
    "from sympy import Symbol, oo, diff, Interval, is_increasing, is_decreasing, pprint\n",
    "from sympy.solvers import solve, solveset\n",
    "from sympy.plotting import plot\n",
    "import sympy\n",
    "import math\n",
    "from sympy import *\n",
    "\n",
    "\n",
    "init_printing()"
   ]
  },
  {
   "cell_type": "code",
   "execution_count": 6,
   "metadata": {},
   "outputs": [
    {
     "data": {
      "image/png": "[encoded data removed]",
      "text/latex": [
       "$\\displaystyle 5 x^{2} \\left|{x}\\right| + 3 x^{2} - 6 \\left|{x}\\right| + 8$"
      ],
      "text/plain": [
       "   2          2            \n",
       "5⋅x ⋅│x│ + 3⋅x  - 6⋅│x│ + 8"
      ]
     },
     "execution_count": 6,
     "metadata": {},
     "output_type": "execute_result"
    }
   ],
   "source": [
    "x = Symbol('x', real = True)\n",
    "y = abs(5*x**3) +3*x**2 - 6 * abs(x) + 8\n",
    "y"
   ]
  },
  {
   "cell_type": "code",
   "execution_count": 52,
   "metadata": {},
   "outputs": [
    {
     "name": "stdout",
     "output_type": "stream",
     "text": [
      "4\n"
     ]
    },
    {
     "data": {
      "text/plain": [
       "[Piecewise((-1/5 - 33/(25*(-1/2 - sqrt(3)*I/2)*(27*sqrt(485)/25 + 3132/125)**(1/3)) - (-1/2 - sqrt(3)*I/2)*(27*sqrt(485)/25 + 3132/125)**(1/3)/3, (44 + (-2 + (1 + sqrt(3)*I)*(5*sqrt(485) + 116)**(1/3))*(1 + sqrt(3)*I)*(5*sqrt(485) + 116)**(1/3))/(10*(1 + sqrt(3)*I)*(5*sqrt(485) + 116)**(1/3)) >= 0), (nan, True)),\n",
       " Piecewise((-1/5 - (-1/2 + sqrt(3)*I/2)*(27*sqrt(485)/25 + 3132/125)**(1/3)/3 - 33/(25*(-1/2 + sqrt(3)*I/2)*(27*sqrt(485)/25 + 3132/125)**(1/3)), (44 + (-2 + (1 - sqrt(3)*I)*(5*sqrt(485) + 116)**(1/3))*(1 - sqrt(3)*I)*(5*sqrt(485) + 116)**(1/3))/(10*(1 - sqrt(3)*I)*(5*sqrt(485) + 116)**(1/3)) >= 0), (nan, True)),\n",
       " Piecewise((1/5 + (-1/2 - sqrt(3)*I/2)*(sqrt(485)/25 + 116/125)**(1/3) + 11/(25*(-1/2 - sqrt(3)*I/2)*(sqrt(485)/25 + 116/125)**(1/3)), (-44 + (1 + sqrt(3)*I)*(2 + (-1 - sqrt(3)*I)*(5*sqrt(485) + 116)**(1/3))*(5*sqrt(485) + 116)**(1/3))/(10*(1 + sqrt(3)*I)*(5*sqrt(485) + 116)**(1/3)) < 0), (nan, True)),\n",
       " Piecewise((1/5 + 11/(25*(-1/2 + sqrt(3)*I/2)*(sqrt(485)/25 + 116/125)**(1/3)) + (-1/2 + sqrt(3)*I/2)*(sqrt(485)/25 + 116/125)**(1/3), (-44 + (1 - sqrt(3)*I)*(2 + (-1 + sqrt(3)*I)*(5*sqrt(485) + 116)**(1/3))*(5*sqrt(485) + 116)**(1/3))/(10*(1 - sqrt(3)*I)*(5*sqrt(485) + 116)**(1/3)) < 0), (nan, True))]"
      ]
     },
     "execution_count": 52,
     "metadata": {},
     "output_type": "execute_result"
    }
   ],
   "source": [
    "# 1. Определить корни\n",
    "roots = solve(y, x)\n",
    "print(len(roots))\n",
    "roots"
   ]
  },
  {
   "cell_type": "code",
   "execution_count": 62,
   "metadata": {},
   "outputs": [
    {
     "data": {
      "text/latex": [
       "$\\displaystyle \\emptyset$"
      ],
      "text/plain": [
       "EmptySet"
      ]
     },
     "execution_count": 62,
     "metadata": {},
     "output_type": "execute_result"
    }
   ],
   "source": [
    "solveset(y, x, Interval(-oo, oo))"
   ]
  },
  {
   "cell_type": "code",
   "execution_count": 7,
   "metadata": {},
   "outputs": [
    {
     "data": {
      "image/png": "[encoded data removed]",
      "text/latex": [
       "$\\displaystyle 5 x^{2} \\operatorname{sign}{\\left(x \\right)} + 10 x \\left|{x}\\right| + 6 x - 6 \\operatorname{sign}{\\left(x \\right)}$"
      ],
      "text/plain": [
       "   2                                     \n",
       "5⋅x ⋅sign(x) + 10⋅x⋅│x│ + 6⋅x - 6⋅sign(x)"
      ]
     },
     "execution_count": 7,
     "metadata": {},
     "output_type": "execute_result"
    }
   ],
   "source": [
    "# 2. Найти интервалы, на которых функция возрастает\n",
    "# 3. Найти интервалы, на которых функция убывает\n",
    "derivate = diff(y, x)\n",
    "derivate"
   ]
  },
  {
   "cell_type": "code",
   "execution_count": 11,
   "metadata": {},
   "outputs": [
    {
     "data": {
      "image/png": "[encoded data removed]",
      "text/latex": [
       "$\\displaystyle \\left( - \\frac{1}{5} + \\frac{\\sqrt{11}}{5}, \\  \\frac{1}{5} - \\frac{\\sqrt{11}}{5}\\right)$"
      ],
      "text/plain": [
       "⎛  1   √11  1   √11⎞\n",
       "⎜- ─ + ───, ─ - ───⎟\n",
       "⎝  5    5   5    5 ⎠"
      ]
     },
     "execution_count": 11,
     "metadata": {},
     "output_type": "execute_result"
    }
   ],
   "source": [
    "#Точка перегиба\n",
    "roots_diff = solve(derivate, x)\n",
    "# print(len(roots_diff))\n",
    "if len(roots_diff) == 1:\n",
    "    root_plus = roots_diff[0]\n",
    "    root_minus = -roots_diff[0]\n",
    "root_plus, root_minus"
   ]
  },
  {
   "cell_type": "code",
   "execution_count": 9,
   "metadata": {},
   "outputs": [
    {
     "data": {
      "image/png": "[encoded data removed]",
      "text/latex": [
       "$\\displaystyle \\left\\{0, - \\frac{1}{5} + \\frac{\\sqrt{11}}{5}, \\frac{1}{5} - \\frac{\\sqrt{11}}{5}\\right\\}$"
      ],
      "text/plain": [
       "⎧     1   √11  1   √11⎫\n",
       "⎨0, - ─ + ───, ─ - ───⎬\n",
       "⎩     5    5   5    5 ⎭"
      ]
     },
     "execution_count": 9,
     "metadata": {},
     "output_type": "execute_result"
    }
   ],
   "source": [
    "solveset(derivate, x, Interval(-oo, oo)) #почему включает 0?"
   ]
  },
  {
   "cell_type": "code",
   "execution_count": 10,
   "metadata": {},
   "outputs": [
    {
     "name": "stdout",
     "output_type": "stream",
     "text": [
      "Function is increasing in Interval(-1/5 + sqrt(11)/5, oo) and Interval(1/5 - sqrt(11)/5, 0)\n"
     ]
    }
   ],
   "source": [
    "#функция возрастает\n",
    "if is_increasing(y, Interval(0, root_plus)):\n",
    "    print(f'Function is increasing in {Interval(0, root_plus)} and {Interval(-oo, root_minus)}')\n",
    "\n",
    "if is_increasing(y, Interval(root_plus, oo)):\n",
    "    print(f'Function is increasing in {Interval(root_plus, +oo)} and {Interval(root_minus, 0)}')\n",
    "    "
   ]
  },
  {
   "cell_type": "code",
   "execution_count": 77,
   "metadata": {},
   "outputs": [
    {
     "name": "stdout",
     "output_type": "stream",
     "text": [
      "Function is decreasing in Interval(0, -1/5 + sqrt(11)/5) and Interval(-oo, 1/5 - sqrt(11)/5)\n"
     ]
    }
   ],
   "source": [
    "# функция убывает\n",
    "if is_decreasing(y, Interval(0, root_plus)):\n",
    "    print(f'Function is decreasing in {Interval(0, root_plus)} and {Interval(-oo, root_minus)}')\n",
    "\n",
    "if is_decreasing(y, Interval(root_plus, oo)):\n",
    "    print(f'Function is decreasing in {Interval(root_plus, +oo)} and {Interval(root_minus, 0)}')"
   ]
  },
  {
   "cell_type": "code",
   "execution_count": 80,
   "metadata": {},
   "outputs": [
    {
     "data": {
      "image/png": "[encoded data removed]",
      "text/plain": [
       "<Figure size 432x288 with 1 Axes>"
      ]
     },
     "metadata": {
      "needs_background": "light"
     },
     "output_type": "display_data"
    },
    {
     "data": {
      "text/plain": [
       "<sympy.plotting.plot.Plot at 0x1678beb37f0>"
      ]
     },
     "execution_count": 80,
     "metadata": {},
     "output_type": "execute_result"
    }
   ],
   "source": [
    "# 4. Построить график\n",
    "plot(y, (x, -1, 1))"
   ]
  },
  {
   "cell_type": "code",
   "execution_count": 13,
   "metadata": {},
   "outputs": [
    {
     "data": {
      "image/png": "[encoded data removed]",
      "text/latex": [
       "$\\displaystyle \\left( - \\frac{6 \\sqrt{11}}{5} + 5 \\left(- \\frac{1}{5} + \\frac{\\sqrt{11}}{5}\\right)^{3} + 3 \\left(- \\frac{1}{5} + \\frac{\\sqrt{11}}{5}\\right)^{2} + \\frac{46}{5}, \\  - \\frac{6 \\sqrt{11}}{5} + 5 \\left(- \\frac{1}{5} + \\frac{\\sqrt{11}}{5}\\right) \\left(\\frac{1}{5} - \\frac{\\sqrt{11}}{5}\\right)^{2} + 3 \\left(\\frac{1}{5} - \\frac{\\sqrt{11}}{5}\\right)^{2} + \\frac{46}{5}\\right)$"
      ],
      "text/plain": [
       "⎛                       3                2                                    \n",
       "⎜  6⋅√11     ⎛  1   √11⎞      ⎛  1   √11⎞    46    6⋅√11     ⎛  1   √11⎞ ⎛1   \n",
       "⎜- ───── + 5⋅⎜- ─ + ───⎟  + 3⋅⎜- ─ + ───⎟  + ──, - ───── + 5⋅⎜- ─ + ───⎟⋅⎜─ - \n",
       "⎝    5       ⎝  5    5 ⎠      ⎝  5    5 ⎠    5       5       ⎝  5    5 ⎠ ⎝5   \n",
       "\n",
       "    2              2     ⎞\n",
       "√11⎞      ⎛1   √11⎞    46⎟\n",
       "───⎟  + 3⋅⎜─ - ───⎟  + ──⎟\n",
       " 5 ⎠      ⎝5    5 ⎠    5 ⎠"
      ]
     },
     "execution_count": 13,
     "metadata": {},
     "output_type": "execute_result"
    }
   ],
   "source": [
    "# 5. Вычислить вершину\n",
    "top_y1 = y.subs(x, root_plus)\n",
    "top_y2 = y.subs(x, root_minus)\n",
    "\n",
    "top_y1, top_y2 #=="
   ]
  },
  {
   "cell_type": "code",
   "execution_count": 25,
   "metadata": {},
   "outputs": [
    {
     "name": "stdout",
     "output_type": "stream",
     "text": [
      "Функция > 0 на всем интервале от (-oo, +oo)\n"
     ]
    }
   ],
   "source": [
    "# 6. Определить промежутки, на котором f > 0\n",
    "# 7. Определить промежутки, на котором f < 0\n",
    "\n",
    "#Поскольку вещественных корней нет, берем любую точку x = 1 и вычисляем значение y\n",
    "\n",
    "y_sign = y.subs(x, 1)\n",
    "if y_sign > 0:\n",
    "    print(f'Функция > 0 на всем интервале от (-oo, +oo)')\n",
    "if y_sign < 0:\n",
    "    print(f'Функция < 0 на всем интервале от (-oo, +oo)')"
   ]
  },
  {
   "cell_type": "code",
   "execution_count": 32,
   "metadata": {},
   "outputs": [
    {
     "data": {
      "image/png": "[encoded data removed]",
      "text/latex": [
       "$\\displaystyle \\infty$"
      ],
      "text/plain": [
       "∞"
      ]
     },
     "metadata": {},
     "output_type": "display_data"
    },
    {
     "data": {
      "image/png": "[encoded data removed]",
      "text/latex": [
       "$\\displaystyle \\infty$"
      ],
      "text/plain": [
       "∞"
      ]
     },
     "metadata": {},
     "output_type": "display_data"
    },
    {
     "data": {
      "image/png": "[encoded data removed]",
      "text/latex": [
       "$\\displaystyle \\infty$"
      ],
      "text/plain": [
       "∞"
      ]
     },
     "metadata": {},
     "output_type": "display_data"
    },
    {
     "data": {
      "image/png": "[encoded data removed]",
      "text/latex": [
       "$\\displaystyle \\left(-\\infty, 0\\right]$"
      ],
      "text/plain": [
       "(-∞, 0]"
      ]
     },
     "metadata": {},
     "output_type": "display_data"
    },
    {
     "data": {
      "image/png": "[encoded data removed]",
      "text/latex": [
       "$\\displaystyle \\left[0, \\infty\\right)$"
      ],
      "text/plain": [
       "[0, ∞)"
      ]
     },
     "metadata": {},
     "output_type": "display_data"
    },
    {
     "data": {
      "image/png": "[encoded data removed]",
      "text/latex": [
       "$\\displaystyle - \\frac{6 \\sqrt{11}}{5} + 5 \\left(- \\frac{1}{5} + \\frac{\\sqrt{11}}{5}\\right)^{3} + 3 \\left(- \\frac{1}{5} + \\frac{\\sqrt{11}}{5}\\right)^{2} + \\frac{46}{5}$"
      ],
      "text/plain": [
       "                       3                2     \n",
       "  6⋅√11     ⎛  1   √11⎞      ⎛  1   √11⎞    46\n",
       "- ───── + 5⋅⎜- ─ + ───⎟  + 3⋅⎜- ─ + ───⎟  + ──\n",
       "    5       ⎝  5    5 ⎠      ⎝  5    5 ⎠    5 "
      ]
     },
     "metadata": {},
     "output_type": "display_data"
    },
    {
     "name": "stdout",
     "output_type": "stream",
     "text": [
      "Функция: \n"
     ]
    },
    {
     "data": {
      "image/png": "[encoded data removed]",
      "text/latex": [
       "$\\displaystyle x^{3} + 4 x^{2}$"
      ],
      "text/plain": [
       " 3      2\n",
       "x  + 4⋅x "
      ]
     },
     "metadata": {},
     "output_type": "display_data"
    },
    {
     "name": "stdout",
     "output_type": "stream",
     "text": [
      " 3      2\n",
      "x  + 4⋅x \n",
      "                       3                2     \n",
      "  6⋅√11     ⎛  1   √11⎞      ⎛  1   √11⎞    46\n",
      "- ───── + 5⋅⎜- ─ + ───⎟  + 3⋅⎜- ─ + ───⎟  + ──\n",
      "    5       ⎝  5    5 ⎠      ⎝  5    5 ⎠    5 \n"
     ]
    }
   ],
   "source": [
    "#Эксперимент с выводом на экран\n",
    "from IPython.display import display\n",
    "display(oo, oo, oo)\n",
    "display(Interval(-oo, 0), Interval(0, +oo))\n",
    "display (top_y1)\n",
    "f = x**3 + 4* x**2 \n",
    "print('Функция: ')\n",
    "display(f)\n",
    "pprint(f)\n",
    "pprint(top_y1)"
   ]
  },
  {
   "cell_type": "code",
   "execution_count": null,
   "metadata": {},
   "outputs": [],
   "source": []
  }
 ],
 "metadata": {
  "kernelspec": {
   "display_name": "Python 3",
   "language": "python",
   "name": "python3"
  },
  "language_info": {
   "codemirror_mode": {
    "name": "ipython",
    "version": 3
   },
   "file_extension": ".py",
   "mimetype": "text/x-python",
   "name": "python",
   "nbconvert_exporter": "python",
   "pygments_lexer": "ipython3",
   "version": "3.8.5"
  }
 },
 "nbformat": 4,
 "nbformat_minor": 4
}
